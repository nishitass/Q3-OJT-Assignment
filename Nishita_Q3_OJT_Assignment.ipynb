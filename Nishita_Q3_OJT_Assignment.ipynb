{
  "nbformat": 4,
  "nbformat_minor": 0,
  "metadata": {
    "colab": {
      "provenance": []
    },
    "kernelspec": {
      "name": "python3",
      "display_name": "Python 3"
    },
    "language_info": {
      "name": "python"
    }
  },
  "cells": [
    {
      "cell_type": "markdown",
      "source": [
        "Q3. Singular Value Decomposition (SVD):\n"
      ],
      "metadata": {
        "id": "Mqpi9KPWSoXj"
      }
    },
    {
      "cell_type": "code",
      "source": [
        "import numpy as np\n",
        "\n",
        "# Set random seed\n",
        "np.random.seed(37)\n",
        "\n",
        "# Create a random 5x5 matrix A with integers between 0 and 9\n",
        "A = np.random.randint(0, 10, size=(5, 5))\n",
        "\n",
        "print(\"Original Matrix A:\")\n",
        "print(A)"
      ],
      "metadata": {
        "colab": {
          "base_uri": "https://localhost:8080/"
        },
        "id": "_5Npb5s2SsRu",
        "outputId": "98628c53-7964-4296-9c1b-fb95584112cb"
      },
      "execution_count": 1,
      "outputs": [
        {
          "output_type": "stream",
          "name": "stdout",
          "text": [
            "Original Matrix A:\n",
            "[[5 6 3 3 5]\n",
            " [8 5 7 8 8]\n",
            " [3 2 8 1 8]\n",
            " [3 8 4 1 3]\n",
            " [2 3 3 2 9]]\n"
          ]
        }
      ]
    },
    {
      "cell_type": "code",
      "source": [
        "# Perform Singular Value Decomposition (SVD)\n",
        "U, S, Vt = np.linalg.svd(A)"
      ],
      "metadata": {
        "id": "dCB9BFk9S0uA"
      },
      "execution_count": 2,
      "outputs": []
    },
    {
      "cell_type": "code",
      "source": [
        "# Construct Σ matrix\n",
        "Sigma = np.zeros_like(A, dtype=float)\n",
        "Sigma[:min(A.shape), :min(A.shape)] = np.diag(S)"
      ],
      "metadata": {
        "id": "rI9pMoatUV8-"
      },
      "execution_count": 3,
      "outputs": []
    },
    {
      "cell_type": "code",
      "source": [
        "# Print U, Σ, and Vt matrices\n",
        "print(\"\\nMatrix U:\")\n",
        "print(U)\n",
        "print(\"\\nMatrix Σ:\")\n",
        "print(Sigma)\n",
        "print(\"\\nMatrix Vt:\")\n",
        "print(Vt)"
      ],
      "metadata": {
        "colab": {
          "base_uri": "https://localhost:8080/"
        },
        "id": "GBu90C5UUZV1",
        "outputId": "e4d14ed2-af8b-4ca7-850c-ed20cd554405"
      },
      "execution_count": 4,
      "outputs": [
        {
          "output_type": "stream",
          "name": "stdout",
          "text": [
            "\n",
            "Matrix U:\n",
            "[[-0.3923064  -0.36919074  0.05394074  0.24946297 -0.80290255]\n",
            " [-0.63291839 -0.11812009 -0.7023484  -0.11805569  0.27969902]\n",
            " [-0.43391378  0.59794268  0.29837795 -0.56358917 -0.21799363]\n",
            " [-0.33848155 -0.57163619  0.5960153  -0.18877498  0.40962431]\n",
            " [-0.37770236  0.40674619  0.24399485  0.75535576  0.24860139]]\n",
            "\n",
            "Matrix Σ:\n",
            "[[24.95995858  0.          0.          0.          0.        ]\n",
            " [ 0.          6.95652574  0.          0.          0.        ]\n",
            " [ 0.          0.          5.60455046  0.          0.        ]\n",
            " [ 0.          0.          0.          3.79003016  0.        ]\n",
            " [ 0.          0.          0.          0.          0.91208703]]\n",
            "\n",
            "Matrix Vt:\n",
            "[[-0.40454674 -0.40974497 -0.46336982 -0.31122112 -0.59739503]\n",
            " [-0.27290958 -0.71338922  0.25628057 -0.17433042  0.56614958]\n",
            " [-0.38859745  0.51900064  0.13354376 -0.72701317  0.18234105]\n",
            " [-0.11702061  0.14120955 -0.81153628  0.14836049  0.53456906]\n",
            " [-0.7727616   0.18407357  0.20780668  0.567619   -0.0598455 ]]\n"
          ]
        }
      ]
    },
    {
      "cell_type": "code",
      "source": [
        "# Verify that A equals the product of U, Σ, and Vt\n",
        "A_reconstructed = np.dot(U, np.dot(Sigma, Vt))\n",
        "print(\"\\nReconstructed Matrix A:\")\n",
        "print(A_reconstructed)"
      ],
      "metadata": {
        "colab": {
          "base_uri": "https://localhost:8080/"
        },
        "id": "DxzkEkd1UcLn",
        "outputId": "824d42fa-20ed-4761-cf11-bfaf7aa252d2"
      },
      "execution_count": 5,
      "outputs": [
        {
          "output_type": "stream",
          "name": "stdout",
          "text": [
            "\n",
            "Reconstructed Matrix A:\n",
            "[[5. 6. 3. 3. 5.]\n",
            " [8. 5. 7. 8. 8.]\n",
            " [3. 2. 8. 1. 8.]\n",
            " [3. 8. 4. 1. 3.]\n",
            " [2. 3. 3. 2. 9.]]\n"
          ]
        }
      ]
    },
    {
      "cell_type": "code",
      "source": [
        "# Rank 2 approximation of matrix A\n",
        "rank_2_approximation = np.dot(U[:, :2], np.dot(Sigma[:2, :2], Vt[:2, :]))\n",
        "print(\"\\nRank 2 Approximation of Matrix A:\")\n",
        "print(rank_2_approximation)"
      ],
      "metadata": {
        "colab": {
          "base_uri": "https://localhost:8080/"
        },
        "id": "SArhbpThUflh",
        "outputId": "e321e235-e85c-4b44-c3a3-305ef02b76bb"
      },
      "execution_count": 6,
      "outputs": [
        {
          "output_type": "stream",
          "name": "stdout",
          "text": [
            "\n",
            "Rank 2 Approximation of Matrix A:\n",
            "[[4.66221157 5.84438954 3.87909325 3.49519231 4.39562976]\n",
            " [6.61512558 7.05918972 7.10955162 5.05980027 8.97220955]\n",
            " [3.24623562 1.47031418 6.08453855 2.6455256  8.8250269 ]\n",
            " [4.50305998 6.29858928 2.89564734 3.3225898  2.79573173]\n",
            " [3.04162955 1.84428062 5.09354522 2.44074207 7.23384613]]\n"
          ]
        }
      ]
    },
    {
      "cell_type": "code",
      "source": [
        "# Rank 3 approximation of matrix A\n",
        "rank_3_approximation = np.dot(U[:, :3], np.dot(Sigma[:3, :3], Vt[:3, :]))\n",
        "print(\"\\nRank 3 Approximation of Matrix A:\")\n",
        "print(rank_3_approximation)"
      ],
      "metadata": {
        "colab": {
          "base_uri": "https://localhost:8080/"
        },
        "id": "7G3rm0tZUklc",
        "outputId": "6da6cb28-39dc-43d9-e90e-774b941ba3f0"
      },
      "execution_count": 7,
      "outputs": [
        {
          "output_type": "stream",
          "name": "stdout",
          "text": [
            "\n",
            "Rank 3 Approximation of Matrix A:\n",
            "[[4.54473327 6.00129051 3.91946535 3.27540633 4.45075395]\n",
            " [8.14478002 5.01622306 6.58387703 7.92157643 8.25445189]\n",
            " [2.5963941  2.3382256  6.30786035 1.42976018 9.12995115]\n",
            " [3.20498989 8.03225791 3.34173663 0.89407658 3.40482338]\n",
            " [2.51022975 2.55400437 5.27616384 1.44656506 7.48319413]]\n"
          ]
        }
      ]
    }
  ]
}